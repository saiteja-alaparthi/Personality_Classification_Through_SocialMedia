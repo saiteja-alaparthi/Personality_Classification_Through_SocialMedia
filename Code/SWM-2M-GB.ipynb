{
 "cells": [
  {
   "cell_type": "markdown",
   "metadata": {},
   "source": [
    "Installing necessary packages"
   ]
  },
  {
   "cell_type": "code",
   "execution_count": null,
   "id": "54032b1f",
   "metadata": {},
   "outputs": [],
   "source": [
    "!pip install -U scikit-learn imbalanced-learn"
   ]
  },
  {
   "cell_type": "code",
   "execution_count": 1,
   "id": "9f76529f",
   "metadata": {},
   "outputs": [],
   "source": [
    "import pandas as pd\n",
    "import numpy as np"
   ]
  },
  {
   "cell_type": "markdown",
   "metadata": {},
   "source": [
    "1. Combining all the csv files and data preprocessing"
   ]
  },
  {
   "cell_type": "code",
   "execution_count": 2,
   "id": "642901c8",
   "metadata": {},
   "outputs": [],
   "source": [
    "import pandas as pd\n",
    "\n",
    "users_df = pd.read_csv('users.csv')\n",
    "likes_df = pd.read_csv('likes.csv') #/content/drive/MyDrive/sample_dataset/likes.csv\n",
    "users_likes_df = pd.read_csv('users-likes.csv')\n",
    "\n",
    "filtered_users_likes_df = users_likes_df[users_likes_df['userid'].isin(users_df['userid'])]\n",
    "\n",
    "merged_df = filtered_users_likes_df.merge(likes_df, left_on='likeid', right_on='likeid')\n",
    "\n",
    "final_df = merged_df.merge(users_df, left_on='userid', right_on='userid')\n",
    "\n",
    "final_df.to_csv('final.csv', index=False)"
   ]
  },
  {
   "cell_type": "code",
   "execution_count": 3,
   "id": "48cb787a",
   "metadata": {},
   "outputs": [
    {
     "name": "stdout",
     "output_type": "stream",
     "text": [
      "The final dataset contains 10612326 rows.\n"
     ]
    }
   ],
   "source": [
    "final_df = pd.read_csv('final.csv')\n",
    "\n",
    "num_rows = final_df.shape[0]\n",
    "\n",
    "print(f'The final dataset contains {num_rows} rows.')"
   ]
  },
  {
   "cell_type": "code",
   "execution_count": 4,
   "id": "2cc1e6c8",
   "metadata": {},
   "outputs": [
    {
     "name": "stdout",
     "output_type": "stream",
     "text": [
      "The final dataset contains 2571490 rows.\n"
     ]
    }
   ],
   "source": [
    "final_df.dropna(inplace=True)\n",
    "\n",
    "num_rows = final_df.shape[0]\n",
    "\n",
    "print(f'The final dataset contains {num_rows} rows.')"
   ]
  },
  {
   "cell_type": "code",
   "execution_count": 5,
   "id": "0e7dfeb4",
   "metadata": {},
   "outputs": [
    {
     "name": "stdout",
     "output_type": "stream",
     "text": [
      "userid       0\n",
      "likeid       0\n",
      "name         0\n",
      "gender       0\n",
      "age          0\n",
      "political    0\n",
      "ope          0\n",
      "con          0\n",
      "ext          0\n",
      "agr          0\n",
      "neu          0\n",
      "dtype: int64\n",
      "Are there any NA values left in the dataset? False\n"
     ]
    }
   ],
   "source": [
    "na_values = final_df.isna().sum()\n",
    "\n",
    "print(na_values)\n",
    "\n",
    "any_na = final_df.isna().any().any()\n",
    "print(f'Are there any NA values left in the dataset? {any_na}')"
   ]
  },
  {
   "cell_type": "code",
   "execution_count": 6,
   "id": "b7409520",
   "metadata": {},
   "outputs": [
    {
     "name": "stdout",
     "output_type": "stream",
     "text": [
      "First few rows for a sanity check:\n",
      "                                userid                            likeid  \\\n",
      "7774  ce110562b3e2f7e5cad3775b32d9caa5  b65f46d64c688fe98bdbcf93a76a71fc   \n",
      "7775  ce110562b3e2f7e5cad3775b32d9caa5  295533f33bf160e76d7e95efadfe196c   \n",
      "7776  ce110562b3e2f7e5cad3775b32d9caa5  a4f3b9c60196cb0920b2868d057c7961   \n",
      "7777  ce110562b3e2f7e5cad3775b32d9caa5  1c88edef6a3d9b9fba1381f3db085dc9   \n",
      "7778  ce110562b3e2f7e5cad3775b32d9caa5  e327fc881114e13a28e7513f6b85c4b1   \n",
      "\n",
      "                                              name  gender  age  political  \\\n",
      "7774  Yo también me rei de la caída de otro jejeje       1   27        0.0   \n",
      "7775                                       Titanic       1   27        0.0   \n",
      "7776                                  Skinny Jeans       1   27        0.0   \n",
      "7777                                        iTunes       1   27        0.0   \n",
      "7778                         Official Grease Movie       1   27        0.0   \n",
      "\n",
      "       ope   con   ext   agr   neu  \n",
      "7774  0.79  0.69  0.23  0.57 -0.57  \n",
      "7775  0.79  0.69  0.23  0.57 -0.57  \n",
      "7776  0.79  0.69  0.23  0.57 -0.57  \n",
      "7777  0.79  0.69  0.23  0.57 -0.57  \n",
      "7778  0.79  0.69  0.23  0.57 -0.57  \n",
      "\n",
      "Last few rows for a sanity check:\n",
      "                                    userid                            likeid  \\\n",
      "10612296  b7900aa81f8e1ba7f06b2c93692029e1  c884cb159b6b04e973ef1372aca35721   \n",
      "10612297  00fe016e12a2e604d3b4ce1d812c9914  c884cb159b6b04e973ef1372aca35721   \n",
      "10612312  bc609469706b40f55c22d77ba199a91c  d710175bc06dc86355aaed1482e0c5ea   \n",
      "10612320  7e7f6a9c07b308bf71dfd3d772e53fee  42bc2d57c860437da01ac4702063bcc0   \n",
      "10612324  967408598b12000e6cdf629c7abed35c  54cf335330ef784f8479915a46c18d33   \n",
      "\n",
      "                  name  gender  age  political   ope   con   ext   agr   neu  \n",
      "10612296      Swimming       0   24        1.0 -0.87 -1.38 -0.21  0.16  0.61  \n",
      "10612297      Swimming       0   25        0.0  0.42  1.24  0.79  1.41 -1.44  \n",
      "10612312         Candy       1   26        1.0  0.79 -1.60 -0.14  1.66  0.67  \n",
      "10612320         track       0   23        0.0  0.89 -0.12  0.04  0.99 -1.44  \n",
      "10612324  Old Cartoons       0   23        1.0 -0.22  0.84  1.23 -0.34 -1.38  \n",
      "\n",
      "Number of duplicate rows: 0\n",
      "\n",
      "Descriptive statistics for numerical columns:\n",
      "             gender           age     political           ope           con  \\\n",
      "count  2.571490e+06  2.571490e+06  2.571490e+06  2.571490e+06  2.571490e+06   \n",
      "mean   5.844565e-01  2.837862e+01  3.019063e-01  2.605666e-01 -8.405044e-02   \n",
      "std    4.928156e-01  7.800643e+00  4.590849e-01  1.002537e+00  1.014672e+00   \n",
      "min    0.000000e+00  1.800000e+01  0.000000e+00 -5.490000e+00 -3.670000e+00   \n",
      "25%    0.000000e+00  2.400000e+01  0.000000e+00 -4.100000e-01 -7.900000e-01   \n",
      "50%    1.000000e+00  2.600000e+01  0.000000e+00  4.200000e-01 -5.000000e-02   \n",
      "75%    1.000000e+00  3.000000e+01  1.000000e+00  1.070000e+00  6.200000e-01   \n",
      "max    1.000000e+00  7.900000e+01  1.000000e+00  1.900000e+00  2.240000e+00   \n",
      "\n",
      "                ext           agr           neu  \n",
      "count  2.571490e+06  2.571490e+06  2.571490e+06  \n",
      "mean   8.088612e-02 -5.620676e-02  9.358822e-02  \n",
      "std    1.003995e+00  1.027094e+00  1.014093e+00  \n",
      "min   -3.080000e+00 -4.260000e+00 -2.130000e+00  \n",
      "25%   -5.800000e-01 -6.800000e-01 -6.300000e-01  \n",
      "50%    1.700000e-01  7.000000e-02  5.000000e-02  \n",
      "75%    8.600000e-01  6.600000e-01  8.000000e-01  \n",
      "max    1.920000e+00  2.320000e+00  2.850000e+00  \n",
      "\n",
      "Value counts for categorical columns:\n",
      "\n",
      "Value counts for userid:\n",
      "userid\n",
      "3dca699bbc4b38d4b9a0a5b65e7617e8    7046\n",
      "d30b10769715f7463392db9d9d396460    5120\n",
      "7510ba4a48e0be56618d11eeb2a977f9    5101\n",
      "e75899e82e43d3a3180de73d1d0a3ce4    4945\n",
      "0ab38e4d544251903c49e4306a43eace    4621\n",
      "                                    ... \n",
      "35fb22b4ab5cb8bbc477d529edc19d81       1\n",
      "ab78a6fb4859d3600a9db9e6b3210f93       1\n",
      "f4d748553a5d0576ce1f7e30c69a946d       1\n",
      "5ee011a249d7721c44ce6bfa334a5f4f       1\n",
      "967408598b12000e6cdf629c7abed35c       1\n",
      "Name: count, Length: 27802, dtype: int64\n",
      "\n",
      "Value counts for likeid:\n",
      "likeid\n",
      "2cad7fe4fdd6a173b2a65fe6edf7ea0b    5194\n",
      "91def4489a61fea770932af5a204597f    4678\n",
      "0dff7d8209d2034b98fa5a3e8ccb88c6    3049\n",
      "fea78a2ce8b4f4a9fec3e0c21b2137c9    2859\n",
      "317963e36a75983416cdae35af06bfb4    2833\n",
      "                                    ... \n",
      "ac2e65f37e16218d332ba9abfb6f7521       1\n",
      "dbd451c346269b04d366f769e2aa3216       1\n",
      "be44b56f1fbb623f44ef285435311b1b       1\n",
      "6179fa2ce05a61393bfac776b9fdc37c       1\n",
      "7342401a98ef7db2fc68825228e5d0f5       1\n",
      "Name: count, Length: 587293, dtype: int64\n",
      "\n",
      "Value counts for name:\n",
      "name\n",
      "Family Guy                                                       5261\n",
      "Music                                                            5071\n",
      "ERR100                                                           4906\n",
      "House                                                            4749\n",
      "Harry Potter                                                     3976\n",
      "                                                                 ... \n",
      "true life: i have a 'become a fan' problem.                         1\n",
      "hates it when your parents yell at you while driving.               1\n",
      "that awkward moment when someone you dont know smiles at you.       1\n",
      "your homework is study Yes! No homework.                            1\n",
      "Boys!                                                               1\n",
      "Name: count, Length: 529326, dtype: int64\n",
      "\n",
      "Data types of each column:\n",
      "userid        object\n",
      "likeid        object\n",
      "name          object\n",
      "gender         int64\n",
      "age            int64\n",
      "political    float64\n",
      "ope          float64\n",
      "con          float64\n",
      "ext          float64\n",
      "agr          float64\n",
      "neu          float64\n",
      "dtype: object\n"
     ]
    }
   ],
   "source": [
    "print(\"First few rows for a sanity check:\")\n",
    "print(final_df.head())\n",
    "print(\"\\nLast few rows for a sanity check:\")\n",
    "print(final_df.tail())\n",
    "\n",
    "duplicate_rows = final_df.duplicated().sum()\n",
    "print(f\"\\nNumber of duplicate rows: {duplicate_rows}\")\n",
    "\n",
    "print(\"\\nDescriptive statistics for numerical columns:\")\n",
    "print(final_df.describe())\n",
    "\n",
    "print(\"\\nValue counts for categorical columns:\")\n",
    "for col in final_df.select_dtypes(include=['object']).columns:\n",
    "    print(f\"\\nValue counts for {col}:\")\n",
    "    print(final_df[col].value_counts())\n",
    "\n",
    "print(\"\\nData types of each column:\")\n",
    "print(final_df.dtypes)"
   ]
  },
  {
   "cell_type": "markdown",
   "metadata": {},
   "source": [
    "2. Generating a sparse matrix using likeid"
   ]
  },
  {
   "cell_type": "code",
   "execution_count": 29,
   "id": "acc6548b",
   "metadata": {},
   "outputs": [
    {
     "name": "stderr",
     "output_type": "stream",
     "text": [
      "/Users/rohi/anaconda3/lib/python3.11/site-packages/sklearn/preprocessing/_encoders.py:975: FutureWarning: `sparse` was renamed to `sparse_output` in version 1.2 and will be removed in 1.4. `sparse_output` is ignored unless you leave `sparse` to its default value.\n",
      "  warnings.warn(\n"
     ]
    }
   ],
   "source": [
    "from sklearn.preprocessing import OneHotEncoder\n",
    "from sklearn.decomposition import PCA\n",
    "from sklearn.preprocessing import StandardScaler\n",
    "\n",
    "encoder = OneHotEncoder(handle_unknown='ignore', sparse=True)\n",
    "likes_matrix = encoder.fit_transform(final_df[['likeid']])\n",
    "\n",
    "from sklearn.decomposition import TruncatedSVD\n",
    "svd = TruncatedSVD(n_components=100, random_state=42) \n",
    "likes_matrix_reduced = svd.fit_transform(likes_matrix)"
   ]
  },
  {
   "cell_type": "code",
   "execution_count": 30,
   "id": "7b4645d4",
   "metadata": {},
   "outputs": [
    {
     "data": {
      "text/plain": [
       "['svd.joblib']"
      ]
     },
     "execution_count": 30,
     "metadata": {},
     "output_type": "execute_result"
    }
   ],
   "source": [
    "import joblib\n",
    "\n",
    "joblib.dump(encoder, 'encoder.joblib')\n",
    "\n",
    "joblib.dump(svd, 'svd.joblib')\n"
   ]
  },
  {
   "cell_type": "markdown",
   "metadata": {},
   "source": [
    "3. Cross checking if everything is good (Data Validation)"
   ]
  },
  {
   "cell_type": "code",
   "execution_count": 8,
   "id": "cbf1ae8d",
   "metadata": {},
   "outputs": [
    {
     "name": "stdout",
     "output_type": "stream",
     "text": [
      "      ope   con   ext   agr   neu\n",
      "min -5.49 -3.67 -3.08 -4.26 -2.13\n",
      "max  1.90  2.24  1.92  2.32  2.85\n"
     ]
    }
   ],
   "source": [
    "personality_scores_min_max = final_df[['ope', 'con', 'ext', 'agr', 'neu']].agg(['min', 'max'])\n",
    "print(personality_scores_min_max)"
   ]
  },
  {
   "cell_type": "code",
   "execution_count": 9,
   "id": "656604ad",
   "metadata": {},
   "outputs": [
    {
     "name": "stdout",
     "output_type": "stream",
     "text": [
      "Anomalies in each column after merging:\n",
      "userid       0\n",
      "likeid       0\n",
      "name         0\n",
      "gender       0\n",
      "age          0\n",
      "political    0\n",
      "ope          0\n",
      "con          0\n",
      "ext          0\n",
      "agr          0\n",
      "neu          0\n",
      "dtype: int64\n"
     ]
    }
   ],
   "source": [
    "anomalies = final_df.isnull().sum()\n",
    "print(\"Anomalies in each column after merging:\")\n",
    "print(anomalies)"
   ]
  },
  {
   "cell_type": "code",
   "execution_count": 10,
   "id": "5adaf3d4",
   "metadata": {},
   "outputs": [
    {
     "name": "stdout",
     "output_type": "stream",
     "text": [
      "Unique users: 27802, Unique likes: 587293\n"
     ]
    }
   ],
   "source": [
    "unique_users = final_df['userid'].nunique()\n",
    "unique_likes = final_df['likeid'].nunique()\n",
    "print(f\"Unique users: {unique_users}, Unique likes: {unique_likes}\")\n"
   ]
  },
  {
   "cell_type": "code",
   "execution_count": 11,
   "id": "de64848c",
   "metadata": {},
   "outputs": [
    {
     "name": "stdout",
     "output_type": "stream",
     "text": [
      "             gender           age     political           ope           con  \\\n",
      "count  2.571490e+06  2.571490e+06  2.571490e+06  2.571490e+06  2.571490e+06   \n",
      "mean   5.844565e-01  2.837862e+01  3.019063e-01  2.605666e-01 -8.405044e-02   \n",
      "std    4.928156e-01  7.800643e+00  4.590849e-01  1.002537e+00  1.014672e+00   \n",
      "min    0.000000e+00  1.800000e+01  0.000000e+00 -5.490000e+00 -3.670000e+00   \n",
      "25%    0.000000e+00  2.400000e+01  0.000000e+00 -4.100000e-01 -7.900000e-01   \n",
      "50%    1.000000e+00  2.600000e+01  0.000000e+00  4.200000e-01 -5.000000e-02   \n",
      "75%    1.000000e+00  3.000000e+01  1.000000e+00  1.070000e+00  6.200000e-01   \n",
      "max    1.000000e+00  7.900000e+01  1.000000e+00  1.900000e+00  2.240000e+00   \n",
      "\n",
      "                ext           agr           neu  \n",
      "count  2.571490e+06  2.571490e+06  2.571490e+06  \n",
      "mean   8.088612e-02 -5.620676e-02  9.358822e-02  \n",
      "std    1.003995e+00  1.027094e+00  1.014093e+00  \n",
      "min   -3.080000e+00 -4.260000e+00 -2.130000e+00  \n",
      "25%   -5.800000e-01 -6.800000e-01 -6.300000e-01  \n",
      "50%    1.700000e-01  7.000000e-02  5.000000e-02  \n",
      "75%    8.600000e-01  6.600000e-01  8.000000e-01  \n",
      "max    1.920000e+00  2.320000e+00  2.850000e+00  \n"
     ]
    }
   ],
   "source": [
    "numerical_stats = final_df.describe()\n",
    "print(numerical_stats)"
   ]
  },
  {
   "cell_type": "code",
   "execution_count": 12,
   "id": "8d5f89b8",
   "metadata": {},
   "outputs": [
    {
     "name": "stdout",
     "output_type": "stream",
     "text": [
      "userid        object\n",
      "likeid        object\n",
      "name          object\n",
      "gender         int64\n",
      "age            int64\n",
      "political    float64\n",
      "ope          float64\n",
      "con          float64\n",
      "ext          float64\n",
      "agr          float64\n",
      "neu          float64\n",
      "dtype: object\n"
     ]
    }
   ],
   "source": [
    "print(final_df.dtypes)"
   ]
  },
  {
   "cell_type": "code",
   "execution_count": 13,
   "id": "48894a84",
   "metadata": {},
   "outputs": [
    {
     "name": "stdout",
     "output_type": "stream",
     "text": [
      "Duplicate user IDs found: 2543688\n"
     ]
    }
   ],
   "source": [
    "duplicate_ids = final_df['userid'].duplicated().sum()\n",
    "print(f\"Duplicate user IDs found: {duplicate_ids}\")"
   ]
  },
  {
   "cell_type": "code",
   "execution_count": 14,
   "id": "063f16d7",
   "metadata": {},
   "outputs": [
    {
     "name": "stdout",
     "output_type": "stream",
     "text": [
      "Duplicate likes per user found: 0\n"
     ]
    }
   ],
   "source": [
    "duplicate_likes_per_user = final_df.duplicated(subset=['userid', 'likeid']).sum()\n",
    "print(f\"Duplicate likes per user found: {duplicate_likes_per_user}\")"
   ]
  },
  {
   "cell_type": "code",
   "execution_count": 15,
   "id": "da3c05a9",
   "metadata": {},
   "outputs": [
    {
     "name": "stdout",
     "output_type": "stream",
     "text": [
      "Logical inconsistencies found: 0\n"
     ]
    }
   ],
   "source": [
    "logical_inconsistencies = (final_df['age'] < 0) | (final_df['ope'] < -5.49) | (final_df['ope'] > 1.90)\n",
    "print(f\"Logical inconsistencies found: {logical_inconsistencies.sum()}\")"
   ]
  },
  {
   "cell_type": "markdown",
   "metadata": {},
   "source": [
    "4. Exploratory Data Analysis for Gender and Polical attributes"
   ]
  },
  {
   "cell_type": "code",
   "execution_count": 16,
   "id": "8558be3b",
   "metadata": {},
   "outputs": [
    {
     "name": "stdout",
     "output_type": "stream",
     "text": [
      "gender\n",
      "1    1502924\n",
      "0    1068566\n",
      "Name: count, dtype: int64\n"
     ]
    },
    {
     "data": {
      "image/png": "[encoded data removed]",
      "text/plain": [
       "<Figure size 800x400 with 1 Axes>"
      ]
     },
     "metadata": {},
     "output_type": "display_data"
    }
   ],
   "source": [
    "import matplotlib.pyplot as plt\n",
    "\n",
    "gender_counts = final_df['gender'].value_counts()\n",
    "print(gender_counts)\n",
    "\n",
    "plt.figure(figsize=(8, 4))\n",
    "gender_counts.plot(kind='bar')\n",
    "plt.title('Gender Distribution')\n",
    "plt.xlabel('Gender')\n",
    "plt.ylabel('Count')\n",
    "plt.xticks(ticks=[0, 1], labels=['Male', 'Female'], rotation=0)\n",
    "plt.show()"
   ]
  },
  {
   "cell_type": "code",
   "execution_count": 17,
   "id": "61101256",
   "metadata": {},
   "outputs": [
    {
     "name": "stdout",
     "output_type": "stream",
     "text": [
      "political\n",
      "0.0    1795141\n",
      "1.0     776349\n",
      "Name: count, dtype: int64\n"
     ]
    },
    {
     "data": {
      "image/png": "[encoded data removed]",
      "text/plain": [
       "<Figure size 800x400 with 1 Axes>"
      ]
     },
     "metadata": {},
     "output_type": "display_data"
    }
   ],
   "source": [
    "political_counts = final_df['political'].value_counts()\n",
    "print(political_counts)\n",
    "\n",
    "plt.figure(figsize=(8, 4))\n",
    "political_counts.plot(kind='bar')\n",
    "plt.title('Political Affiliation Distribution')\n",
    "plt.xlabel('Political Affiliation')\n",
    "plt.ylabel('Count')\n",
    "plt.xticks(ticks=[0, 1], labels=['Democrats', 'Republicans'], rotation=0)\n",
    "plt.show()"
   ]
  },
  {
   "cell_type": "markdown",
   "metadata": {},
   "source": [
    "4.1 Splitting the dataset into train and test"
   ]
  },
  {
   "cell_type": "code",
   "execution_count": 18,
   "id": "f97c87ef",
   "metadata": {},
   "outputs": [],
   "source": [
    "from sklearn.model_selection import train_test_split\n",
    "\n",
    "ocean_features = final_df[['ope', 'con', 'ext', 'agr', 'neu']].values\n",
    "\n",
    "X = np.hstack((likes_matrix_reduced, ocean_features))\n",
    "y = final_df[['age', 'gender', 'political']]\n",
    "\n",
    "X_train, X_test, y_train, y_test = train_test_split(X, y, test_size=0.2, random_state=63)\n"
   ]
  },
  {
   "cell_type": "markdown",
   "metadata": {},
   "source": [
    "4.2 Balancing the gender and politcal values "
   ]
  },
  {
   "cell_type": "code",
   "execution_count": 19,
   "id": "743970c4",
   "metadata": {},
   "outputs": [],
   "source": [
    "from imblearn.over_sampling import SMOTE\n",
    "\n",
    "smote = SMOTE(random_state=42)\n",
    "\n",
    "y_gender = y_train.iloc[:, 1]\n",
    "X_train_balanced, y_gender_balanced = smote.fit_resample(X_train, y_gender)"
   ]
  },
  {
   "cell_type": "code",
   "execution_count": 20,
   "id": "7462a71d",
   "metadata": {},
   "outputs": [],
   "source": [
    "y_political = y_train.iloc[:, 2]\n",
    "X_train_political_balanced, y_political_balanced = smote.fit_resample(X_train, y_political)"
   ]
  },
  {
   "cell_type": "code",
   "execution_count": 21,
   "id": "928e590e",
   "metadata": {},
   "outputs": [
    {
     "data": {
      "image/png": "[encoded data removed]",
      "text/plain": [
       "<Figure size 1500x500 with 2 Axes>"
      ]
     },
     "metadata": {},
     "output_type": "display_data"
    }
   ],
   "source": [
    "import matplotlib.pyplot as plt\n",
    "\n",
    "gender_counts_balanced = pd.Series(y_gender_balanced).value_counts()\n",
    "\n",
    "political_counts_balanced = pd.Series(y_political_balanced).value_counts()\n",
    "\n",
    "fig, axes = plt.subplots(1, 2, figsize=(15, 5))\n",
    "\n",
    "axes[0].bar(gender_counts_balanced.index, gender_counts_balanced.values, color=['blue', 'orange'])\n",
    "axes[0].set_title('Balanced Gender Distribution')\n",
    "axes[0].set_xticks(gender_counts_balanced.index)\n",
    "axes[0].set_xticklabels(['Male', 'Female'])\n",
    "axes[0].set_ylabel('Count')\n",
    "\n",
    "axes[1].bar(political_counts_balanced.index, political_counts_balanced.values, color=['blue', 'orange'])\n",
    "axes[1].set_title('Balanced Political Affiliation Distribution')\n",
    "axes[1].set_xticks(political_counts_balanced.index)\n",
    "axes[1].set_xticklabels(['Democrats', 'Republicans'])\n",
    "axes[1].set_ylabel('Count')\n",
    "\n",
    "plt.show()"
   ]
  },
  {
   "cell_type": "markdown",
   "metadata": {},
   "source": [
    "5. Training the Model"
   ]
  },
  {
   "cell_type": "code",
   "execution_count": 23,
   "id": "903e2e1e",
   "metadata": {},
   "outputs": [
    {
     "name": "stdout",
     "output_type": "stream",
     "text": [
      "Age prediction - Mean Squared Error: -48.633 (+/- 0.242)\n",
      "Gender prediction - Accuracy: 0.692 (+/- 0.004)\n",
      "Political prediction - Accuracy: 0.798 (+/- 0.001)\n"
     ]
    }
   ],
   "source": [
    "from sklearn.model_selection import cross_val_score, train_test_split\n",
    "from sklearn.ensemble import GradientBoostingRegressor, GradientBoostingClassifier\n",
    "\n",
    "X_combined = np.hstack((likes_matrix_reduced, ocean_features))\n",
    "\n",
    "y_age = final_df['age']\n",
    "y_gender = final_df['gender']\n",
    "y_political = final_df['political']\n",
    "\n",
    "X_train, X_test, y_age_train, y_age_test = train_test_split(X_combined, y_age, test_size=0.2, random_state=42)\n",
    "_, _, y_gender_train, y_gender_test = train_test_split(X_combined, y_gender, test_size=0.2, random_state=42)\n",
    "_, _, y_political_train, y_political_test = train_test_split(X_combined, y_political, test_size=0.2, random_state=42)\n",
    "\n",
    "gb_regressor = GradientBoostingRegressor(\n",
    "    n_estimators=100,\n",
    "    learning_rate=0.1,\n",
    "    max_depth=3,\n",
    "    min_samples_split=2,\n",
    "    min_samples_leaf=1,\n",
    "    subsample=1.0,\n",
    "    max_features=None,\n",
    "    random_state=42\n",
    ")\n",
    "gb_classifier_gender = GradientBoostingClassifier(\n",
    "    n_estimators=100,\n",
    "    learning_rate=0.1,\n",
    "    max_depth=3,\n",
    "    min_samples_split=2,\n",
    "    min_samples_leaf=1,\n",
    "    subsample=1.0,\n",
    "    max_features=None,\n",
    "    random_state=42\n",
    ")\n",
    "\n",
    "gb_classifier_political = GradientBoostingClassifier(\n",
    "    n_estimators=100,\n",
    "    learning_rate=0.1,\n",
    "    max_depth=3,\n",
    "    min_samples_split=2,\n",
    "    min_samples_leaf=1,\n",
    "    subsample=1.0,\n",
    "    max_features=None,\n",
    "    random_state=42\n",
    ")\n",
    "\n",
    "age_scores = cross_val_score(gb_regressor, X_train, y_age_train, cv=10, scoring='neg_mean_squared_error')\n",
    "print(f\"Age prediction - Mean Squared Error: {age_scores.mean():.3f} (+/- {age_scores.std() * 2:.3f})\")\n",
    "\n",
    "gender_scores = cross_val_score(gb_classifier_gender, X_train, y_gender_train, cv=10, scoring='accuracy')\n",
    "print(f\"Gender prediction - Accuracy: {gender_scores.mean():.3f} (+/- {gender_scores.std() * 2:.3f})\")\n",
    "\n",
    "political_scores = cross_val_score(gb_classifier_political, X_train, y_political_train, cv=10, scoring='accuracy')\n",
    "print(f\"Political prediction - Accuracy: {political_scores.mean():.3f} (+/- {political_scores.std() * 2:.3f})\")\n",
    "\n",
    "gb_regressor.fit(X_train, y_age_train)\n",
    "gb_classifier_gender.fit(X_train, y_gender_train)\n",
    "gb_classifier_political.fit(X_train, y_political_train)\n",
    "\n",
    "age_predictions = gb_regressor.predict(X_test)\n",
    "gender_predictions = gb_classifier_gender.predict(X_test)\n",
    "political_predictions = gb_classifier_political.predict(X_test)\n"
   ]
  },
  {
   "cell_type": "markdown",
   "metadata": {},
   "source": [
    "5.1 Results and values"
   ]
  },
  {
   "cell_type": "code",
   "execution_count": 26,
   "id": "f8ad02b7",
   "metadata": {},
   "outputs": [
    {
     "name": "stdout",
     "output_type": "stream",
     "text": [
      "Gender Precision: 0.6913683205646297\n",
      "Gender Recall: 0.8580028752845333\n",
      "Gender F1 Score: 0.765724841812331\n",
      "Gender Confusion Matrix:\n",
      " [[ 98712 115094]\n",
      " [ 42669 257823]]\n",
      "\n",
      "Political Precision: 0.7084095666650184\n",
      "Political Recall: 0.5545112054395087\n",
      "Political F1 Score: 0.6220834298286243\n",
      "Political Confusion Matrix:\n",
      " [[323903  35381]\n",
      " [ 69057  85957]]\n"
     ]
    }
   ],
   "source": [
    "from sklearn.metrics import precision_score, recall_score, f1_score, confusion_matrix\n",
    "\n",
    "gender_precision = precision_score(y_gender_test, gender_predictions)\n",
    "gender_recall = recall_score(y_gender_test, gender_predictions)\n",
    "gender_f1 = f1_score(y_gender_test, gender_predictions)\n",
    "gender_confusion_matrix = confusion_matrix(y_gender_test, gender_predictions)\n",
    "\n",
    "political_precision = precision_score(y_political_test, political_predictions)\n",
    "political_recall = recall_score(y_political_test, political_predictions)\n",
    "political_f1 = f1_score(y_political_test, political_predictions)\n",
    "political_confusion_matrix = confusion_matrix(y_political_test, political_predictions)\n",
    "\n",
    "print(\"Gender Precision:\", gender_precision)\n",
    "print(\"Gender Recall:\", gender_recall)\n",
    "print(\"Gender F1 Score:\", gender_f1)\n",
    "print(\"Gender Confusion Matrix:\\n\", gender_confusion_matrix)\n",
    "\n",
    "print(\"\\nPolitical Precision:\", political_precision)\n",
    "print(\"Political Recall:\", political_recall)\n",
    "print(\"Political F1 Score:\", political_f1)\n",
    "print(\"Political Confusion Matrix:\\n\", political_confusion_matrix)"
   ]
  },
  {
   "cell_type": "code",
   "execution_count": 27,
   "id": "d3594541",
   "metadata": {},
   "outputs": [
    {
     "data": {
      "text/plain": [
       "['political_classifier.joblib']"
      ]
     },
     "execution_count": 27,
     "metadata": {},
     "output_type": "execute_result"
    }
   ],
   "source": [
    "import joblib\n",
    "\n",
    "joblib.dump(gb_regressor, 'age_regressor.joblib')\n",
    "joblib.dump(gb_classifier_gender, 'gender_classifier.joblib')\n",
    "joblib.dump(gb_classifier_political, 'political_classifier.joblib')"
   ]
  },
  {
   "cell_type": "markdown",
   "metadata": {},
   "source": [
    "Misc."
   ]
  },
  {
   "cell_type": "code",
   "execution_count": null,
   "id": "9065d057",
   "metadata": {},
   "outputs": [],
   "source": [
    "'''likes_df_reduced = pd.DataFrame(likes_matrix_reduced, columns=[f'like_component_{i}' for i in range(likes_matrix_reduced.shape[1])])\n",
    "df = pd.concat([final_df, likes_df_reduced], axis=1)\n",
    "\n",
    "print('The first few rows of the dataset:')\n",
    "print(df.head())'''"
   ]
  },
  {
   "cell_type": "code",
   "execution_count": null,
   "id": "dfc1d429",
   "metadata": {},
   "outputs": [],
   "source": [
    "'''svd_feature_cols = [col for col in df.columns if col.startswith('like_component_')]\n",
    "\n",
    "ocean_scores_cols = ['ope', 'con', 'ext', 'agr', 'neu']'''"
   ]
  },
  {
   "cell_type": "code",
   "execution_count": null,
   "id": "a63fa060",
   "metadata": {},
   "outputs": [],
   "source": [
    "'''print(df.columns)'''"
   ]
  },
  {
   "cell_type": "code",
   "execution_count": null,
   "id": "a0c7acf8",
   "metadata": {},
   "outputs": [],
   "source": [
    "'''all(col in df.columns for col in svd_feature_cols + ocean_scores_cols)'''"
   ]
  },
  {
   "cell_type": "code",
   "execution_count": null,
   "id": "975196a9",
   "metadata": {},
   "outputs": [],
   "source": [
    "'''X = df[svd_feature_cols + ocean_scores_cols]\n",
    "\n",
    "print(X.head())'''"
   ]
  },
  {
   "cell_type": "code",
   "execution_count": null,
   "id": "781da05b",
   "metadata": {},
   "outputs": [],
   "source": [
    "'''from sklearn.ensemble import GradientBoostingRegressor, GradientBoostingClassifier\n",
    "from sklearn.model_selection import cross_val_score\n",
    "from sklearn.multioutput import MultiOutputRegressor, MultiOutputClassifier\n",
    "\n",
    "X = df[svd_feature_cols + ocean_scores_cols] \n",
    "y_age = df['age']  \n",
    "y_political_gender = df[['political', 'gender']]  '''"
   ]
  },
  {
   "cell_type": "code",
   "execution_count": null,
   "id": "39ddbef3",
   "metadata": {},
   "outputs": [],
   "source": [
    "'''model_regressor = GradientBoostingRegressor(n_estimators=100,  \n",
    "    learning_rate=0.1,  \n",
    "    max_depth=3,  \n",
    "    min_samples_split=2,  \n",
    "    min_samples_leaf=1,  \n",
    "    subsample=1.0,  \n",
    "    max_features=None) \n",
    "model_classifier = GradientBoostingClassifier(n_estimators=100,  \n",
    "    learning_rate=0.1,\n",
    "    max_depth=3,  \n",
    "    min_samples_split=2,  \n",
    "    min_samples_leaf=1,  \n",
    "    subsample=1.0,  \n",
    "    max_features=None) \n",
    "\n",
    "scores_age = cross_val_score(model_regressor, X, y_age, cv=10)\n",
    "print(\"Age Prediction - Cross-validation scores:\", scores_age.mean())\n",
    "\n",
    "multioutput_model = MultiOutputClassifier(model_classifier)\n",
    "scores_political_gender = cross_val_score(multioutput_model, X, y_political_gender, cv=10)\n",
    "print(\"Political and Gender Prediction - Cross-validation scores:\", scores_political_gender.mean())\n",
    "'''\n",
    "\n",
    "# Initialize the Gradient Boosting Classifier---------------------------------------\n",
    "#model = GradientBoostingClassifier(\n",
    "#    n_estimators=100,  # Number of boosting stages to be run\n",
    " #   learning_rate=0.1,  # Learning rate or shrinkage\n",
    "  #  max_depth=3,  # Maximum depth of the individual regression estimators\n",
    "   # min_samples_split=2,  # Minimum number of samples required to split an internal node\n",
    "    #min_samples_leaf=1,  # Minimum number of samples required to be at a leaf node\n",
    "#    subsample=1.0,  # The fraction of samples to be used for fitting the individual base learners\n",
    " #   max_features=None  # The number of features to consider when looking for the best split\n",
    "#)\n",
    "\n",
    "# Perform 10-fold cross-validation\n",
    "#scores = cross_val_score(model, X, y, cv=10)\n",
    "\n",
    "# Print the accuracy for each fold\n",
    "#for i, score in enumerate(scores, start=1):\n",
    " #   print(f\"Accuracy for fold {i}: {score}\")\n",
    "\n",
    "# Print the average accuracy\n",
    "#print(f\"Average Accuracy: {scores.mean()}\")\n"
   ]
  },
  {
   "cell_type": "code",
   "execution_count": null,
   "id": "b9088607",
   "metadata": {},
   "outputs": [],
   "source": []
  }
 ],
 "metadata": {
  "kernelspec": {
   "display_name": "Python 3 (ipykernel)",
   "language": "python",
   "name": "python3"
  },
  "language_info": {
   "codemirror_mode": {
    "name": "ipython",
    "version": 3
   },
   "file_extension": ".py",
   "mimetype": "text/x-python",
   "name": "python",
   "nbconvert_exporter": "python",
   "pygments_lexer": "ipython3",
   "version": "3.11.5"
  }
 },
 "nbformat": 4,
 "nbformat_minor": 5
}

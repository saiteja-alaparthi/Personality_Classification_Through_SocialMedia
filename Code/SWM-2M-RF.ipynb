{
 "cells": [
  {
   "cell_type": "code",
   "execution_count": 1,
   "id": "1957a973",
   "metadata": {},
   "outputs": [],
   "source": [
    "import pandas as pd\n",
    "import numpy as np"
   ]
  },
  {
   "cell_type": "code",
   "execution_count": 2,
   "id": "d1b89840",
   "metadata": {},
   "outputs": [],
   "source": [
    "import pandas as pd\n",
    "\n",
    "users_df = pd.read_csv('users.csv')\n",
    "likes_df = pd.read_csv('likes.csv')\n",
    "users_likes_df = pd.read_csv('users-likes.csv')\n",
    "\n",
    "filtered_users_likes_df = users_likes_df[users_likes_df['userid'].isin(users_df['userid'])]\n",
    "\n",
    "merged_df = filtered_users_likes_df.merge(likes_df, left_on='likeid', right_on='likeid')\n",
    "\n",
    "final_df = merged_df.merge(users_df, left_on='userid', right_on='userid')\n",
    "\n",
    "final_df.to_csv('final.csv', index=False)"
   ]
  },
  {
   "cell_type": "code",
   "execution_count": 3,
   "id": "a6a17ac1",
   "metadata": {},
   "outputs": [
    {
     "name": "stdout",
     "output_type": "stream",
     "text": [
      "The final dataset contains 10612326 rows.\n"
     ]
    }
   ],
   "source": [
    "\n",
    "final_df = pd.read_csv('final.csv')\n",
    "\n",
    "num_rows = final_df.shape[0]\n",
    "\n",
    "print(f'The final dataset contains {num_rows} rows.')"
   ]
  },
  {
   "cell_type": "code",
   "execution_count": 4,
   "id": "6ec45382",
   "metadata": {},
   "outputs": [
    {
     "name": "stdout",
     "output_type": "stream",
     "text": [
      "The final dataset contains 2571490 rows.\n"
     ]
    }
   ],
   "source": [
    "final_df.dropna(inplace=True)\n",
    "\n",
    "num_rows = final_df.shape[0]\n",
    "\n",
    "print(f'The final dataset contains {num_rows} rows.')"
   ]
  },
  {
   "cell_type": "code",
   "execution_count": 5,
   "id": "3954bbda",
   "metadata": {},
   "outputs": [
    {
     "name": "stdout",
     "output_type": "stream",
     "text": [
      "userid       0\n",
      "likeid       0\n",
      "name         0\n",
      "gender       0\n",
      "age          0\n",
      "political    0\n",
      "ope          0\n",
      "con          0\n",
      "ext          0\n",
      "agr          0\n",
      "neu          0\n",
      "dtype: int64\n",
      "Are there any NA values left in the dataset? False\n"
     ]
    }
   ],
   "source": [
    "na_values = final_df.isna().sum()\n",
    "\n",
    "print(na_values)\n",
    "\n",
    "any_na = final_df.isna().any().any()\n",
    "print(f'Are there any NA values left in the dataset? {any_na}')"
   ]
  },
  {
   "cell_type": "code",
   "execution_count": 6,
   "id": "e219c7a6",
   "metadata": {},
   "outputs": [
    {
     "name": "stdout",
     "output_type": "stream",
     "text": [
      "First few rows for a sanity check:\n",
      "                                userid                            likeid  \\\n",
      "7774  ce110562b3e2f7e5cad3775b32d9caa5  b65f46d64c688fe98bdbcf93a76a71fc   \n",
      "7775  ce110562b3e2f7e5cad3775b32d9caa5  295533f33bf160e76d7e95efadfe196c   \n",
      "7776  ce110562b3e2f7e5cad3775b32d9caa5  a4f3b9c60196cb0920b2868d057c7961   \n",
      "7777  ce110562b3e2f7e5cad3775b32d9caa5  1c88edef6a3d9b9fba1381f3db085dc9   \n",
      "7778  ce110562b3e2f7e5cad3775b32d9caa5  e327fc881114e13a28e7513f6b85c4b1   \n",
      "\n",
      "                                              name  gender  age  political  \\\n",
      "7774  Yo también me rei de la caída de otro jejeje       1   27        0.0   \n",
      "7775                                       Titanic       1   27        0.0   \n",
      "7776                                  Skinny Jeans       1   27        0.0   \n",
      "7777                                        iTunes       1   27        0.0   \n",
      "7778                         Official Grease Movie       1   27        0.0   \n",
      "\n",
      "       ope   con   ext   agr   neu  \n",
      "7774  0.79  0.69  0.23  0.57 -0.57  \n",
      "7775  0.79  0.69  0.23  0.57 -0.57  \n",
      "7776  0.79  0.69  0.23  0.57 -0.57  \n",
      "7777  0.79  0.69  0.23  0.57 -0.57  \n",
      "7778  0.79  0.69  0.23  0.57 -0.57  \n",
      "\n",
      "Last few rows for a sanity check:\n",
      "                                    userid                            likeid  \\\n",
      "10612296  b7900aa81f8e1ba7f06b2c93692029e1  c884cb159b6b04e973ef1372aca35721   \n",
      "10612297  00fe016e12a2e604d3b4ce1d812c9914  c884cb159b6b04e973ef1372aca35721   \n",
      "10612312  bc609469706b40f55c22d77ba199a91c  d710175bc06dc86355aaed1482e0c5ea   \n",
      "10612320  7e7f6a9c07b308bf71dfd3d772e53fee  42bc2d57c860437da01ac4702063bcc0   \n",
      "10612324  967408598b12000e6cdf629c7abed35c  54cf335330ef784f8479915a46c18d33   \n",
      "\n",
      "                  name  gender  age  political   ope   con   ext   agr   neu  \n",
      "10612296      Swimming       0   24        1.0 -0.87 -1.38 -0.21  0.16  0.61  \n",
      "10612297      Swimming       0   25        0.0  0.42  1.24  0.79  1.41 -1.44  \n",
      "10612312         Candy       1   26        1.0  0.79 -1.60 -0.14  1.66  0.67  \n",
      "10612320         track       0   23        0.0  0.89 -0.12  0.04  0.99 -1.44  \n",
      "10612324  Old Cartoons       0   23        1.0 -0.22  0.84  1.23 -0.34 -1.38  \n",
      "\n",
      "Number of duplicate rows: 0\n",
      "\n",
      "Descriptive statistics for numerical columns:\n",
      "             gender           age     political           ope           con  \\\n",
      "count  2.571490e+06  2.571490e+06  2.571490e+06  2.571490e+06  2.571490e+06   \n",
      "mean   5.844565e-01  2.837862e+01  3.019063e-01  2.605666e-01 -8.405044e-02   \n",
      "std    4.928156e-01  7.800643e+00  4.590849e-01  1.002537e+00  1.014672e+00   \n",
      "min    0.000000e+00  1.800000e+01  0.000000e+00 -5.490000e+00 -3.670000e+00   \n",
      "25%    0.000000e+00  2.400000e+01  0.000000e+00 -4.100000e-01 -7.900000e-01   \n",
      "50%    1.000000e+00  2.600000e+01  0.000000e+00  4.200000e-01 -5.000000e-02   \n",
      "75%    1.000000e+00  3.000000e+01  1.000000e+00  1.070000e+00  6.200000e-01   \n",
      "max    1.000000e+00  7.900000e+01  1.000000e+00  1.900000e+00  2.240000e+00   \n",
      "\n",
      "                ext           agr           neu  \n",
      "count  2.571490e+06  2.571490e+06  2.571490e+06  \n",
      "mean   8.088612e-02 -5.620676e-02  9.358822e-02  \n",
      "std    1.003995e+00  1.027094e+00  1.014093e+00  \n",
      "min   -3.080000e+00 -4.260000e+00 -2.130000e+00  \n",
      "25%   -5.800000e-01 -6.800000e-01 -6.300000e-01  \n",
      "50%    1.700000e-01  7.000000e-02  5.000000e-02  \n",
      "75%    8.600000e-01  6.600000e-01  8.000000e-01  \n",
      "max    1.920000e+00  2.320000e+00  2.850000e+00  \n",
      "\n",
      "Value counts for categorical columns:\n",
      "\n",
      "Value counts for userid:\n",
      "userid\n",
      "3dca699bbc4b38d4b9a0a5b65e7617e8    7046\n",
      "d30b10769715f7463392db9d9d396460    5120\n",
      "7510ba4a48e0be56618d11eeb2a977f9    5101\n",
      "e75899e82e43d3a3180de73d1d0a3ce4    4945\n",
      "0ab38e4d544251903c49e4306a43eace    4621\n",
      "                                    ... \n",
      "35fb22b4ab5cb8bbc477d529edc19d81       1\n",
      "ab78a6fb4859d3600a9db9e6b3210f93       1\n",
      "f4d748553a5d0576ce1f7e30c69a946d       1\n",
      "5ee011a249d7721c44ce6bfa334a5f4f       1\n",
      "967408598b12000e6cdf629c7abed35c       1\n",
      "Name: count, Length: 27802, dtype: int64\n",
      "\n",
      "Value counts for likeid:\n",
      "likeid\n",
      "2cad7fe4fdd6a173b2a65fe6edf7ea0b    5194\n",
      "91def4489a61fea770932af5a204597f    4678\n",
      "0dff7d8209d2034b98fa5a3e8ccb88c6    3049\n",
      "fea78a2ce8b4f4a9fec3e0c21b2137c9    2859\n",
      "317963e36a75983416cdae35af06bfb4    2833\n",
      "                                    ... \n",
      "ac2e65f37e16218d332ba9abfb6f7521       1\n",
      "dbd451c346269b04d366f769e2aa3216       1\n",
      "be44b56f1fbb623f44ef285435311b1b       1\n",
      "6179fa2ce05a61393bfac776b9fdc37c       1\n",
      "7342401a98ef7db2fc68825228e5d0f5       1\n",
      "Name: count, Length: 587293, dtype: int64\n",
      "\n",
      "Value counts for name:\n",
      "name\n",
      "Family Guy                                                       5261\n",
      "Music                                                            5071\n",
      "ERR100                                                           4906\n",
      "House                                                            4749\n",
      "Harry Potter                                                     3976\n",
      "                                                                 ... \n",
      "true life: i have a 'become a fan' problem.                         1\n",
      "hates it when your parents yell at you while driving.               1\n",
      "that awkward moment when someone you dont know smiles at you.       1\n",
      "your homework is study Yes! No homework.                            1\n",
      "Boys!                                                               1\n",
      "Name: count, Length: 529326, dtype: int64\n",
      "\n",
      "Data types of each column:\n",
      "userid        object\n",
      "likeid        object\n",
      "name          object\n",
      "gender         int64\n",
      "age            int64\n",
      "political    float64\n",
      "ope          float64\n",
      "con          float64\n",
      "ext          float64\n",
      "agr          float64\n",
      "neu          float64\n",
      "dtype: object\n"
     ]
    }
   ],
   "source": [
    "print(\"First few rows for a sanity check:\")\n",
    "print(final_df.head())\n",
    "print(\"\\nLast few rows for a sanity check:\")\n",
    "print(final_df.tail())\n",
    "\n",
    "duplicate_rows = final_df.duplicated().sum()\n",
    "print(f\"\\nNumber of duplicate rows: {duplicate_rows}\")\n",
    "\n",
    "print(\"\\nDescriptive statistics for numerical columns:\")\n",
    "print(final_df.describe())\n",
    "\n",
    "print(\"\\nValue counts for categorical columns:\")\n",
    "for col in final_df.select_dtypes(include=['object']).columns:\n",
    "    print(f\"\\nValue counts for {col}:\")\n",
    "    print(final_df[col].value_counts())\n",
    "\n",
    "print(\"\\nData types of each column:\")\n",
    "print(final_df.dtypes)"
   ]
  },
  {
   "cell_type": "code",
   "execution_count": 7,
   "id": "a844ba81",
   "metadata": {},
   "outputs": [
    {
     "name": "stderr",
     "output_type": "stream",
     "text": [
      "/Users/rohi/anaconda3/lib/python3.11/site-packages/sklearn/preprocessing/_encoders.py:972: FutureWarning: `sparse` was renamed to `sparse_output` in version 1.2 and will be removed in 1.4. `sparse_output` is ignored unless you leave `sparse` to its default value.\n",
      "  warnings.warn(\n"
     ]
    }
   ],
   "source": [
    "from sklearn.preprocessing import OneHotEncoder\n",
    "from sklearn.decomposition import PCA\n",
    "from sklearn.preprocessing import StandardScaler\n",
    "\n",
    "encoder = OneHotEncoder(sparse=True) \n",
    "likes_matrix = encoder.fit_transform(final_df[['likeid']])\n",
    "\n",
    "from sklearn.decomposition import TruncatedSVD\n",
    "svd = TruncatedSVD(n_components=100, random_state=42) \n",
    "likes_matrix_reduced = svd.fit_transform(likes_matrix)"
   ]
  },
  {
   "cell_type": "code",
   "execution_count": 17,
   "id": "1244a0a6",
   "metadata": {},
   "outputs": [
    {
     "name": "stdout",
     "output_type": "stream",
     "text": [
      "          ope       con       ext       agr       neu\n",
      "min -5.736013 -3.534098 -3.148309 -4.092900 -2.192688\n",
      "max  1.635284  2.290445  1.831796  2.313524  2.718107\n"
     ]
    }
   ],
   "source": [
    "personality_scores_min_max = final_df[['ope', 'con', 'ext', 'agr', 'neu']].agg(['min', 'max'])\n",
    "print(personality_scores_min_max)"
   ]
  },
  {
   "cell_type": "code",
   "execution_count": 18,
   "id": "f8c1d566",
   "metadata": {},
   "outputs": [
    {
     "name": "stdout",
     "output_type": "stream",
     "text": [
      "Anomalies in each column after merging:\n",
      "userid       0\n",
      "likeid       0\n",
      "name         0\n",
      "gender       0\n",
      "age          0\n",
      "political    0\n",
      "ope          0\n",
      "con          0\n",
      "ext          0\n",
      "agr          0\n",
      "neu          0\n",
      "dtype: int64\n"
     ]
    }
   ],
   "source": [
    "anomalies = final_df.isnull().sum()\n",
    "print(\"Anomalies in each column after merging:\")\n",
    "print(anomalies)"
   ]
  },
  {
   "cell_type": "code",
   "execution_count": 19,
   "id": "9301df32",
   "metadata": {},
   "outputs": [
    {
     "name": "stdout",
     "output_type": "stream",
     "text": [
      "Unique users: 27802, Unique likes: 587293\n"
     ]
    }
   ],
   "source": [
    "unique_users = final_df['userid'].nunique()\n",
    "unique_likes = final_df['likeid'].nunique()\n",
    "print(f\"Unique users: {unique_users}, Unique likes: {unique_likes}\")\n"
   ]
  },
  {
   "cell_type": "code",
   "execution_count": 20,
   "id": "f39ca6db",
   "metadata": {},
   "outputs": [
    {
     "name": "stdout",
     "output_type": "stream",
     "text": [
      "             gender           age     political           ope           con  \\\n",
      "count  2.571490e+06  2.571490e+06  2.571490e+06  2.571490e+06  2.571490e+06   \n",
      "mean   5.844565e-01  2.837862e+01  3.019063e-01  1.165389e-16 -7.604205e-18   \n",
      "std    4.928156e-01  7.800643e+00  4.590849e-01  1.000000e+00  1.000000e+00   \n",
      "min    0.000000e+00  1.800000e+01  0.000000e+00 -5.736013e+00 -3.534098e+00   \n",
      "25%    0.000000e+00  2.400000e+01  0.000000e+00 -6.688696e-01 -6.957417e-01   \n",
      "50%    1.000000e+00  2.600000e+01  0.000000e+00  1.590299e-01  3.355808e-02   \n",
      "75%    1.000000e+00  3.000000e+01  1.000000e+00  8.073849e-01  6.938700e-01   \n",
      "max    1.000000e+00  7.900000e+01  1.000000e+00  1.635284e+00  2.290445e+00   \n",
      "\n",
      "                ext           agr           neu  \n",
      "count  2.571490e+06  2.571490e+06  2.571490e+06  \n",
      "mean   7.460521e-18  2.309998e-17  7.825257e-17  \n",
      "std    1.000000e+00  1.000000e+00  1.000000e+00  \n",
      "min   -3.148309e+00 -4.092900e+00 -2.192688e+00  \n",
      "25%   -6.582565e-01 -6.073379e-01 -7.135328e-01  \n",
      "50%    8.875930e-02  1.228775e-01 -4.298249e-02  \n",
      "75%    7.760138e-01  6.973137e-01  6.965950e-01  \n",
      "max    1.831796e+00  2.313524e+00  2.718107e+00  \n"
     ]
    }
   ],
   "source": [
    "numerical_stats = final_df.describe()\n",
    "print(numerical_stats)"
   ]
  },
  {
   "cell_type": "code",
   "execution_count": 21,
   "id": "f55c3563",
   "metadata": {},
   "outputs": [
    {
     "name": "stdout",
     "output_type": "stream",
     "text": [
      "userid        object\n",
      "likeid        object\n",
      "name          object\n",
      "gender         int64\n",
      "age            int64\n",
      "political    float64\n",
      "ope          float64\n",
      "con          float64\n",
      "ext          float64\n",
      "agr          float64\n",
      "neu          float64\n",
      "dtype: object\n"
     ]
    }
   ],
   "source": [
    "print(final_df.dtypes)"
   ]
  },
  {
   "cell_type": "code",
   "execution_count": 23,
   "id": "c58e802b",
   "metadata": {},
   "outputs": [
    {
     "name": "stdout",
     "output_type": "stream",
     "text": [
      "Duplicate user IDs found: 2543688\n"
     ]
    }
   ],
   "source": [
    "duplicate_ids = final_df['userid'].duplicated().sum()\n",
    "print(f\"Duplicate user IDs found: {duplicate_ids}\")"
   ]
  },
  {
   "cell_type": "code",
   "execution_count": 24,
   "id": "cbaeb017",
   "metadata": {},
   "outputs": [
    {
     "name": "stdout",
     "output_type": "stream",
     "text": [
      "Duplicate likes per user found: 0\n"
     ]
    }
   ],
   "source": [
    "duplicate_likes_per_user = final_df.duplicated(subset=['userid', 'likeid']).sum()\n",
    "print(f\"Duplicate likes per user found: {duplicate_likes_per_user}\")"
   ]
  },
  {
   "cell_type": "code",
   "execution_count": 25,
   "id": "3799189f",
   "metadata": {},
   "outputs": [
    {
     "name": "stdout",
     "output_type": "stream",
     "text": [
      "Logical inconsistencies found: 0\n"
     ]
    }
   ],
   "source": [
    "logical_inconsistencies = (final_df['age'] < 0) | (final_df['ope'] < -5.74) | (final_df['ope'] > 1.64)\n",
    "print(f\"Logical inconsistencies found: {logical_inconsistencies.sum()}\")"
   ]
  },
  {
   "cell_type": "code",
   "execution_count": 26,
   "id": "7de136f4",
   "metadata": {},
   "outputs": [],
   "source": [
    "from sklearn.model_selection import train_test_split\n",
    "\n",
    "X = likes_matrix_reduced  \n",
    "y = final_df[['age', 'gender', 'political']]\n",
    "\n",
    "X_train, X_test, y_train, y_test = train_test_split(X, y, test_size=0.2, random_state=42)"
   ]
  },
  {
   "cell_type": "code",
   "execution_count": 27,
   "id": "1703b3e8",
   "metadata": {},
   "outputs": [
    {
     "name": "stdout",
     "output_type": "stream",
     "text": [
      "Accuracy: 0.6004573224084091\n",
      "              precision    recall  f1-score   support\n",
      "\n",
      "           0       0.59      0.13      0.22    213806\n",
      "           1       0.60      0.93      0.73    300492\n",
      "\n",
      "    accuracy                           0.60    514298\n",
      "   macro avg       0.59      0.53      0.47    514298\n",
      "weighted avg       0.60      0.60      0.52    514298\n",
      "\n"
     ]
    }
   ],
   "source": [
    "from sklearn.ensemble import RandomForestClassifier\n",
    "rf_clf = RandomForestClassifier(random_state=42)\n",
    " \n",
    "rf_clf.fit(X_train, y_train['gender'])\n",
    "\n",
    "gender_predictions = rf_clf.predict(X_test)\n",
    "\n",
    "from sklearn.metrics import accuracy_score, classification_report\n",
    "print(f\"Accuracy: {accuracy_score(y_test['gender'], gender_predictions)}\")\n",
    "print(classification_report(y_test['gender'], gender_predictions))"
   ]
  },
  {
   "cell_type": "code",
   "execution_count": 28,
   "id": "c08b8765",
   "metadata": {},
   "outputs": [
    {
     "data": {
      "text/plain": [
       "['rf_clf_gender.joblib']"
      ]
     },
     "execution_count": 28,
     "metadata": {},
     "output_type": "execute_result"
    }
   ],
   "source": [
    "from joblib import dump\n",
    "\n",
    "dump(rf_clf, 'rf_clf_gender.joblib')"
   ]
  },
  {
   "cell_type": "code",
   "execution_count": 31,
   "id": "16132bfd",
   "metadata": {},
   "outputs": [],
   "source": [
    "from sklearn.ensemble import RandomForestClassifier\n",
    "\n",
    "rf_clf = RandomForestClassifier(random_state=63)\n",
    "rf_clf.fit(X_train, y_train[['gender', 'political']]) \n",
    "\n",
    "predictions = rf_clf.predict(X_test)\n",
    "\n",
    "gender_predictions = predictions[:, 0]\n",
    "political_predictions = predictions[:, 1]"
   ]
  },
  {
   "cell_type": "code",
   "execution_count": 32,
   "id": "68ee644d",
   "metadata": {},
   "outputs": [
    {
     "name": "stdout",
     "output_type": "stream",
     "text": [
      "Accuracy for gender prediction: 0.6002881597828497\n",
      "              precision    recall  f1-score   support\n",
      "\n",
      "           0       0.59      0.13      0.21    213806\n",
      "           1       0.60      0.93      0.73    300492\n",
      "\n",
      "    accuracy                           0.60    514298\n",
      "   macro avg       0.59      0.53      0.47    514298\n",
      "weighted avg       0.60      0.60      0.52    514298\n",
      "\n",
      "Accuracy for political prediction: 0.702798766473912\n",
      "              precision    recall  f1-score   support\n",
      "\n",
      "         0.0       0.70      0.99      0.82    359284\n",
      "         1.0       0.64      0.03      0.06    155014\n",
      "\n",
      "    accuracy                           0.70    514298\n",
      "   macro avg       0.67      0.51      0.44    514298\n",
      "weighted avg       0.69      0.70      0.59    514298\n",
      "\n"
     ]
    }
   ],
   "source": [
    "from sklearn.metrics import accuracy_score, classification_report\n",
    "\n",
    "print(f\"Accuracy for gender prediction: {accuracy_score(y_test['gender'], gender_predictions)}\")\n",
    "print(classification_report(y_test['gender'], gender_predictions))\n",
    "\n",
    "print(f\"Accuracy for political prediction: {accuracy_score(y_test['political'], political_predictions)}\")\n",
    "print(classification_report(y_test['political'], political_predictions))"
   ]
  },
  {
   "cell_type": "code",
   "execution_count": null,
   "id": "3fab3939",
   "metadata": {},
   "outputs": [],
   "source": [
    "'''from sklearn.model_selection import train_test_split\n",
    "X_sample, _, y_sample, _ = train_test_split(X, y, test_size=0.8, random_state=42)\n",
    "\n",
    "X_train_sample, X_test_sample, y_train_sample, y_test_sample = train_test_split(X_sample, y_sample, test_size=0.2, random_state=42)\n",
    "\n",
    "from sklearn.ensemble import RandomForestClassifier\n",
    "from sklearn.metrics import accuracy_score, classification_report\n",
    "\n",
    "rf_clf = RandomForestClassifier(random_state=42)\n",
    "\n",
    "rf_clf.fit(X_train, y_train[['gender', 'political']]) \n",
    "\n",
    "predictions = rf_clf.predict(X_test)\n",
    "\n",
    "gender_predictions = predictions[:, 0]\n",
    "political_predictions = predictions[:, 1]\n",
    "\n",
    "print(f\"Accuracy for gender prediction: {accuracy_score(y_test['gender'], gender_predictions)}\")\n",
    "print(classification_report(y_test['gender'], gender_predictions))\n",
    "\n",
    "print(f\"Accuracy for political prediction: {accuracy_score(y_test['political'], political_predictions)}\")\n",
    "print(classification_report(y_test['political'], political_predictions))\n",
    "'''"
   ]
  }
 ],
 "metadata": {
  "kernelspec": {
   "display_name": "Python 3 (ipykernel)",
   "language": "python",
   "name": "python3"
  },
  "language_info": {
   "codemirror_mode": {
    "name": "ipython",
    "version": 3
   },
   "file_extension": ".py",
   "mimetype": "text/x-python",
   "name": "python",
   "nbconvert_exporter": "python",
   "pygments_lexer": "ipython3",
   "version": "3.11.5"
  }
 },
 "nbformat": 4,
 "nbformat_minor": 5
}

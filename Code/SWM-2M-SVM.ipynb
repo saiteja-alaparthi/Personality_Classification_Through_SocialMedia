{
 "cells": [
  {
   "cell_type": "code",
   "execution_count": 1,
   "id": "f29b4026",
   "metadata": {},
   "outputs": [
    {
     "name": "stdout",
     "output_type": "stream",
     "text": [
      "Requirement already satisfied: scikit-learn in c:\\users\\rmukk\\anaconda3\\lib\\site-packages (1.3.2)\n",
      "Requirement already satisfied: imbalanced-learn in c:\\users\\rmukk\\anaconda3\\lib\\site-packages (0.11.0)\n",
      "Requirement already satisfied: numpy<2.0,>=1.17.3 in c:\\users\\rmukk\\anaconda3\\lib\\site-packages (from scikit-learn) (1.21.5)\n",
      "Requirement already satisfied: threadpoolctl>=2.0.0 in c:\\users\\rmukk\\anaconda3\\lib\\site-packages (from scikit-learn) (2.2.0)\n",
      "Requirement already satisfied: scipy>=1.5.0 in c:\\users\\rmukk\\anaconda3\\lib\\site-packages (from scikit-learn) (1.7.3)\n",
      "Requirement already satisfied: joblib>=1.1.1 in c:\\users\\rmukk\\anaconda3\\lib\\site-packages (from scikit-learn) (1.3.2)\n",
      "Note: you may need to restart the kernel to use updated packages.\n"
     ]
    }
   ],
   "source": [
    "pip install -U scikit-learn imbalanced-learn"
   ]
  },
  {
   "cell_type": "code",
   "execution_count": 2,
   "id": "83d09f59",
   "metadata": {},
   "outputs": [],
   "source": [
    "import pandas as pd\n",
    "import numpy as np"
   ]
  },
  {
   "cell_type": "code",
   "execution_count": 3,
   "id": "aea9e3c8",
   "metadata": {},
   "outputs": [],
   "source": [
    "import pandas as pd\n",
    "\n",
    "users_df = pd.read_csv('users.csv')\n",
    "likes_df = pd.read_csv('likes.csv')\n",
    "users_likes_df = pd.read_csv('users-likes.csv')\n",
    "\n",
    "filtered_users_likes_df = users_likes_df[users_likes_df['userid'].isin(users_df['userid'])]\n",
    "\n",
    "merged_df = filtered_users_likes_df.merge(likes_df, left_on='likeid', right_on='likeid')\n",
    "\n",
    "final_df = merged_df.merge(users_df, left_on='userid', right_on='userid')\n",
    "\n",
    "final_df.to_csv('final.csv', index=False)"
   ]
  },
  {
   "cell_type": "code",
   "execution_count": 4,
   "id": "c1055a2d",
   "metadata": {},
   "outputs": [
    {
     "name": "stdout",
     "output_type": "stream",
     "text": [
      "The final dataset contains 10612326 rows.\n"
     ]
    }
   ],
   "source": [
    "final_df = pd.read_csv('final.csv')\n",
    "\n",
    "num_rows = final_df.shape[0]\n",
    "\n",
    "print(f'The final dataset contains {num_rows} rows.')"
   ]
  },
  {
   "cell_type": "code",
   "execution_count": 5,
   "id": "4f896420",
   "metadata": {},
   "outputs": [
    {
     "name": "stdout",
     "output_type": "stream",
     "text": [
      "The final dataset contains 2571573 rows.\n"
     ]
    }
   ],
   "source": [
    "final_df.dropna(inplace=True)\n",
    "\n",
    "num_rows = final_df.shape[0]\n",
    "\n",
    "print(f'The final dataset contains {num_rows} rows.')"
   ]
  },
  {
   "cell_type": "code",
   "execution_count": 6,
   "id": "f77753b8",
   "metadata": {},
   "outputs": [
    {
     "name": "stdout",
     "output_type": "stream",
     "text": [
      "userid       0\n",
      "likeid       0\n",
      "name         0\n",
      "gender       0\n",
      "age          0\n",
      "political    0\n",
      "ope          0\n",
      "con          0\n",
      "ext          0\n",
      "agr          0\n",
      "neu          0\n",
      "dtype: int64\n",
      "Are there any NA values left in the dataset? False\n"
     ]
    }
   ],
   "source": [
    "na_values = final_df.isna().sum()\n",
    "\n",
    "print(na_values)\n",
    "\n",
    "any_na = final_df.isna().any().any()\n",
    "print(f'Are there any NA values left in the dataset? {any_na}')"
   ]
  },
  {
   "cell_type": "code",
   "execution_count": 7,
   "id": "b769f29b",
   "metadata": {},
   "outputs": [
    {
     "name": "stdout",
     "output_type": "stream",
     "text": [
      "First few rows for a sanity check:\n",
      "                                userid                            likeid  \\\n",
      "7774  ce110562b3e2f7e5cad3775b32d9caa5  b65f46d64c688fe98bdbcf93a76a71fc   \n",
      "7775  ce110562b3e2f7e5cad3775b32d9caa5  295533f33bf160e76d7e95efadfe196c   \n",
      "7776  ce110562b3e2f7e5cad3775b32d9caa5  a4f3b9c60196cb0920b2868d057c7961   \n",
      "7777  ce110562b3e2f7e5cad3775b32d9caa5  1c88edef6a3d9b9fba1381f3db085dc9   \n",
      "7778  ce110562b3e2f7e5cad3775b32d9caa5  e327fc881114e13a28e7513f6b85c4b1   \n",
      "\n",
      "                                              name  gender  age  political  \\\n",
      "7774  Yo también me rei de la caída de otro jejeje       1   27        0.0   \n",
      "7775                                       Titanic       1   27        0.0   \n",
      "7776                                  Skinny Jeans       1   27        0.0   \n",
      "7777                                        iTunes       1   27        0.0   \n",
      "7778                         Official Grease Movie       1   27        0.0   \n",
      "\n",
      "       ope   con   ext   agr   neu  \n",
      "7774  0.79  0.69  0.23  0.57 -0.57  \n",
      "7775  0.79  0.69  0.23  0.57 -0.57  \n",
      "7776  0.79  0.69  0.23  0.57 -0.57  \n",
      "7777  0.79  0.69  0.23  0.57 -0.57  \n",
      "7778  0.79  0.69  0.23  0.57 -0.57  \n",
      "\n",
      "Last few rows for a sanity check:\n",
      "                                    userid                            likeid  \\\n",
      "10612296  b7900aa81f8e1ba7f06b2c93692029e1  c884cb159b6b04e973ef1372aca35721   \n",
      "10612297  00fe016e12a2e604d3b4ce1d812c9914  c884cb159b6b04e973ef1372aca35721   \n",
      "10612312  bc609469706b40f55c22d77ba199a91c  d710175bc06dc86355aaed1482e0c5ea   \n",
      "10612320  7e7f6a9c07b308bf71dfd3d772e53fee  42bc2d57c860437da01ac4702063bcc0   \n",
      "10612324  967408598b12000e6cdf629c7abed35c  54cf335330ef784f8479915a46c18d33   \n",
      "\n",
      "                  name  gender  age  political   ope   con   ext   agr   neu  \n",
      "10612296      Swimming       0   24        1.0 -0.87 -1.38 -0.21  0.16  0.61  \n",
      "10612297      Swimming       0   25        0.0  0.42  1.24  0.79  1.41 -1.44  \n",
      "10612312         Candy       1   26        1.0  0.79 -1.60 -0.14  1.66  0.67  \n",
      "10612320         track       0   23        0.0  0.89 -0.12  0.04  0.99 -1.44  \n",
      "10612324  Old Cartoons       0   23        1.0 -0.22  0.84  1.23 -0.34 -1.38  \n",
      "\n",
      "Number of duplicate rows: 0\n",
      "\n",
      "Descriptive statistics for numerical columns:\n",
      "             gender           age     political           ope           con  \\\n",
      "count  2.571573e+06  2.571573e+06  2.571573e+06  2.571573e+06  2.571573e+06   \n",
      "mean   5.844462e-01  2.837863e+01  3.019117e-01  2.605480e-01 -8.405119e-02   \n",
      "std    4.928173e-01  7.800753e+00  4.590873e-01  1.002545e+00  1.014671e+00   \n",
      "min    0.000000e+00  1.800000e+01  0.000000e+00 -5.490000e+00 -3.670000e+00   \n",
      "25%    0.000000e+00  2.400000e+01  0.000000e+00 -4.100000e-01 -7.900000e-01   \n",
      "50%    1.000000e+00  2.600000e+01  0.000000e+00  4.200000e-01 -5.000000e-02   \n",
      "75%    1.000000e+00  3.000000e+01  1.000000e+00  1.070000e+00  6.200000e-01   \n",
      "max    1.000000e+00  7.900000e+01  1.000000e+00  1.900000e+00  2.240000e+00   \n",
      "\n",
      "                ext           agr           neu  \n",
      "count  2.571573e+06  2.571573e+06  2.571573e+06  \n",
      "mean   8.088293e-02 -5.620897e-02  9.358222e-02  \n",
      "std    1.003995e+00  1.027089e+00  1.014088e+00  \n",
      "min   -3.080000e+00 -4.260000e+00 -2.130000e+00  \n",
      "25%   -5.800000e-01 -6.800000e-01 -6.300000e-01  \n",
      "50%    1.700000e-01  7.000000e-02  5.000000e-02  \n",
      "75%    8.600000e-01  6.600000e-01  8.000000e-01  \n",
      "max    1.920000e+00  2.320000e+00  2.850000e+00  \n",
      "\n",
      "Value counts for categorical columns:\n",
      "\n",
      "Value counts for userid:\n",
      "3dca699bbc4b38d4b9a0a5b65e7617e8    7046\n",
      "d30b10769715f7463392db9d9d396460    5120\n",
      "7510ba4a48e0be56618d11eeb2a977f9    5101\n",
      "e75899e82e43d3a3180de73d1d0a3ce4    4945\n",
      "0ab38e4d544251903c49e4306a43eace    4621\n",
      "                                    ... \n",
      "767025c64b98b9b842c8b86a69bdecf3       1\n",
      "8233f5d73091b4135fccbcacca997079       1\n",
      "0f56cffc97b2a976b7cd7237a7a0b5ea       1\n",
      "4336f5c501c1f360304c6c9f1cd41ca3       1\n",
      "967408598b12000e6cdf629c7abed35c       1\n",
      "Name: userid, Length: 27806, dtype: int64\n",
      "\n",
      "Value counts for likeid:\n",
      "2cad7fe4fdd6a173b2a65fe6edf7ea0b    5194\n",
      "91def4489a61fea770932af5a204597f    4678\n",
      "0dff7d8209d2034b98fa5a3e8ccb88c6    3049\n",
      "fea78a2ce8b4f4a9fec3e0c21b2137c9    2859\n",
      "317963e36a75983416cdae35af06bfb4    2833\n",
      "                                    ... \n",
      "71025cdb393c1bdeb421a5e0d94ef017       1\n",
      "ac2e65f37e16218d332ba9abfb6f7521       1\n",
      "dbd451c346269b04d366f769e2aa3216       1\n",
      "be44b56f1fbb623f44ef285435311b1b       1\n",
      "7342401a98ef7db2fc68825228e5d0f5       1\n",
      "Name: likeid, Length: 587299, dtype: int64\n",
      "\n",
      "Value counts for name:\n",
      "Family Guy                                                       5261\n",
      "Music                                                            5071\n",
      "ERR100                                                           4906\n",
      "House                                                            4749\n",
      "Harry Potter                                                     3976\n",
      "                                                                 ... \n",
      "true life: i have a 'become a fan' problem.                         1\n",
      "hates it when your parents yell at you while driving.               1\n",
      "that awkward moment when someone you dont know smiles at you.       1\n",
      "your homework is study Yes! No homework.                            1\n",
      "Boys!                                                               1\n",
      "Name: name, Length: 529327, dtype: int64\n",
      "\n",
      "Data types of each column:\n",
      "userid        object\n",
      "likeid        object\n",
      "name          object\n",
      "gender         int64\n",
      "age            int64\n",
      "political    float64\n",
      "ope          float64\n",
      "con          float64\n",
      "ext          float64\n",
      "agr          float64\n",
      "neu          float64\n",
      "dtype: object\n"
     ]
    }
   ],
   "source": [
    "print(\"First few rows for a sanity check:\")\n",
    "print(final_df.head())\n",
    "print(\"\\nLast few rows for a sanity check:\")\n",
    "print(final_df.tail())\n",
    "\n",
    "duplicate_rows = final_df.duplicated().sum()\n",
    "print(f\"\\nNumber of duplicate rows: {duplicate_rows}\")\n",
    "\n",
    "print(\"\\nDescriptive statistics for numerical columns:\")\n",
    "print(final_df.describe())\n",
    "\n",
    "print(\"\\nValue counts for categorical columns:\")\n",
    "for col in final_df.select_dtypes(include=['object']).columns:\n",
    "    print(f\"\\nValue counts for {col}:\")\n",
    "    print(final_df[col].value_counts())\n",
    "\n",
    "print(\"\\nData types of each column:\")\n",
    "print(final_df.dtypes)"
   ]
  },
  {
   "cell_type": "code",
   "execution_count": 8,
   "id": "5c30fcd9",
   "metadata": {},
   "outputs": [
    {
     "name": "stderr",
     "output_type": "stream",
     "text": [
      "C:\\Users\\Rmukk\\anaconda3\\lib\\site-packages\\sklearn\\preprocessing\\_encoders.py:975: FutureWarning: `sparse` was renamed to `sparse_output` in version 1.2 and will be removed in 1.4. `sparse_output` is ignored unless you leave `sparse` to its default value.\n",
      "  warnings.warn(\n"
     ]
    }
   ],
   "source": [
    "from sklearn.preprocessing import OneHotEncoder\n",
    "from sklearn.decomposition import PCA\n",
    "from sklearn.preprocessing import StandardScaler\n",
    "\n",
    "encoder = OneHotEncoder(sparse=True) \n",
    "likes_matrix = encoder.fit_transform(final_df[['likeid']])\n",
    "\n",
    "from sklearn.decomposition import TruncatedSVD\n",
    "svd = TruncatedSVD(n_components=100, random_state=42) \n",
    "likes_matrix_reduced = svd.fit_transform(likes_matrix)\n"
   ]
  },
  {
   "cell_type": "code",
   "execution_count": 9,
   "id": "77fdb544",
   "metadata": {},
   "outputs": [
    {
     "name": "stdout",
     "output_type": "stream",
     "text": [
      "      ope   con   ext   agr   neu\n",
      "min -5.49 -3.67 -3.08 -4.26 -2.13\n",
      "max  1.90  2.24  1.92  2.32  2.85\n",
      "Anomalies in each column after merging:\n",
      "userid       0\n",
      "likeid       0\n",
      "name         0\n",
      "gender       0\n",
      "age          0\n",
      "political    0\n",
      "ope          0\n",
      "con          0\n",
      "ext          0\n",
      "agr          0\n",
      "neu          0\n",
      "dtype: int64\n",
      "Unique users: 27806, Unique likes: 587299\n",
      "             gender           age     political           ope           con  \\\n",
      "count  2.571573e+06  2.571573e+06  2.571573e+06  2.571573e+06  2.571573e+06   \n",
      "mean   5.844462e-01  2.837863e+01  3.019117e-01  2.605480e-01 -8.405119e-02   \n",
      "std    4.928173e-01  7.800753e+00  4.590873e-01  1.002545e+00  1.014671e+00   \n",
      "min    0.000000e+00  1.800000e+01  0.000000e+00 -5.490000e+00 -3.670000e+00   \n",
      "25%    0.000000e+00  2.400000e+01  0.000000e+00 -4.100000e-01 -7.900000e-01   \n",
      "50%    1.000000e+00  2.600000e+01  0.000000e+00  4.200000e-01 -5.000000e-02   \n",
      "75%    1.000000e+00  3.000000e+01  1.000000e+00  1.070000e+00  6.200000e-01   \n",
      "max    1.000000e+00  7.900000e+01  1.000000e+00  1.900000e+00  2.240000e+00   \n",
      "\n",
      "                ext           agr           neu  \n",
      "count  2.571573e+06  2.571573e+06  2.571573e+06  \n",
      "mean   8.088293e-02 -5.620897e-02  9.358222e-02  \n",
      "std    1.003995e+00  1.027089e+00  1.014088e+00  \n",
      "min   -3.080000e+00 -4.260000e+00 -2.130000e+00  \n",
      "25%   -5.800000e-01 -6.800000e-01 -6.300000e-01  \n",
      "50%    1.700000e-01  7.000000e-02  5.000000e-02  \n",
      "75%    8.600000e-01  6.600000e-01  8.000000e-01  \n",
      "max    1.920000e+00  2.320000e+00  2.850000e+00  \n",
      "userid        object\n",
      "likeid        object\n",
      "name          object\n",
      "gender         int64\n",
      "age            int64\n",
      "political    float64\n",
      "ope          float64\n",
      "con          float64\n",
      "ext          float64\n",
      "agr          float64\n",
      "neu          float64\n",
      "dtype: object\n",
      "Duplicate user IDs found: 2543767\n",
      "Duplicate likes per user found: 0\n",
      "Logical inconsistencies found: 0\n"
     ]
    }
   ],
   "source": [
    "personality_scores_min_max = final_df[['ope', 'con', 'ext', 'agr', 'neu']].agg(['min', 'max'])\n",
    "print(personality_scores_min_max)\n",
    "\n",
    "anomalies = final_df.isnull().sum()\n",
    "print(\"Anomalies in each column after merging:\")\n",
    "print(anomalies)\n",
    "\n",
    "unique_users = final_df['userid'].nunique()\n",
    "unique_likes = final_df['likeid'].nunique()\n",
    "print(f\"Unique users: {unique_users}, Unique likes: {unique_likes}\")\n",
    "\n",
    "\n",
    "numerical_stats = final_df.describe()\n",
    "print(numerical_stats)\n",
    "\n",
    "print(final_df.dtypes)\n",
    "\n",
    "duplicate_ids = final_df['userid'].duplicated().sum()\n",
    "print(f\"Duplicate user IDs found: {duplicate_ids}\")\n",
    "\n",
    "duplicate_likes_per_user = final_df.duplicated(subset=['userid', 'likeid']).sum()\n",
    "print(f\"Duplicate likes per user found: {duplicate_likes_per_user}\")\n",
    "\n",
    "logical_inconsistencies = (final_df['age'] < 0) | (final_df['ope'] < -5.49) | (final_df['ope'] > 1.90)\n",
    "print(f\"Logical inconsistencies found: {logical_inconsistencies.sum()}\")"
   ]
  },
  {
   "cell_type": "code",
   "execution_count": 10,
   "id": "dcd77595",
   "metadata": {},
   "outputs": [
    {
     "name": "stdout",
     "output_type": "stream",
     "text": [
      "1    1502946\n",
      "0    1068627\n",
      "Name: gender, dtype: int64\n"
     ]
    },
    {
     "data": {
      "image/png": "[encoded data removed]",
      "text/plain": [
       "<Figure size 576x288 with 1 Axes>"
      ]
     },
     "metadata": {
      "needs_background": "light"
     },
     "output_type": "display_data"
    }
   ],
   "source": [
    "import matplotlib.pyplot as plt\n",
    "\n",
    "gender_counts = final_df['gender'].value_counts()\n",
    "print(gender_counts)\n",
    "\n",
    "plt.figure(figsize=(8, 4))\n",
    "gender_counts.plot(kind='bar')\n",
    "plt.title('Gender Distribution')\n",
    "plt.xlabel('Gender')\n",
    "plt.ylabel('Count')\n",
    "plt.xticks(ticks=[0, 1], labels=['Male', 'Female'], rotation=0)\n",
    "plt.show()"
   ]
  },
  {
   "cell_type": "code",
   "execution_count": 11,
   "id": "7e751792",
   "metadata": {},
   "outputs": [
    {
     "name": "stdout",
     "output_type": "stream",
     "text": [
      "0.0    1795185\n",
      "1.0     776388\n",
      "Name: political, dtype: int64\n"
     ]
    },
    {
     "data": {
      "image/png": "[encoded data removed]",
      "text/plain": [
       "<Figure size 576x288 with 1 Axes>"
      ]
     },
     "metadata": {
      "needs_background": "light"
     },
     "output_type": "display_data"
    }
   ],
   "source": [
    "political_counts = final_df['political'].value_counts()\n",
    "print(political_counts)\n",
    "\n",
    "plt.figure(figsize=(8, 4))\n",
    "political_counts.plot(kind='bar')\n",
    "plt.title('Political Affiliation Distribution')\n",
    "plt.xlabel('Political Affiliation')\n",
    "plt.ylabel('Count')\n",
    "plt.xticks(ticks=[0, 1], labels=['Democrats', 'Republicans'], rotation=0)\n",
    "plt.show()"
   ]
  },
  {
   "cell_type": "code",
   "execution_count": 12,
   "id": "7f9e7e8d",
   "metadata": {},
   "outputs": [],
   "source": [
    "from sklearn.model_selection import train_test_split\n",
    "\n",
    "ocean_features = final_df[['ope', 'con', 'ext', 'agr', 'neu']].values\n",
    "\n",
    "X = np.hstack((likes_matrix_reduced, ocean_features))\n",
    "y = final_df[['age', 'gender', 'political']]\n",
    "\n",
    "X_train, X_test, y_train, y_test = train_test_split(X, y, test_size=0.2, random_state=63)\n"
   ]
  },
  {
   "cell_type": "code",
   "execution_count": 13,
   "id": "ca016e3f",
   "metadata": {},
   "outputs": [],
   "source": [
    "from imblearn.over_sampling import SMOTE\n",
    "\n",
    "smote = SMOTE(random_state=42)\n",
    "\n",
    "y_gender = y_train.iloc[:, 1] \n",
    "X_train_balanced, y_gender_balanced = smote.fit_resample(X_train, y_gender)"
   ]
  },
  {
   "cell_type": "code",
   "execution_count": 14,
   "id": "d9b15e20",
   "metadata": {},
   "outputs": [],
   "source": [
    "y_political = y_train.iloc[:, 2]\n",
    "X_train_political_balanced, y_political_balanced = smote.fit_resample(X_train, y_political)"
   ]
  },
  {
   "cell_type": "code",
   "execution_count": 15,
   "id": "b9356197",
   "metadata": {},
   "outputs": [
    {
     "data": {
      "image/png": "[encoded data removed]",
      "text/plain": [
       "<Figure size 1080x360 with 2 Axes>"
      ]
     },
     "metadata": {
      "needs_background": "light"
     },
     "output_type": "display_data"
    }
   ],
   "source": [
    "import matplotlib.pyplot as plt\n",
    "\n",
    "gender_counts_balanced = pd.Series(y_gender_balanced).value_counts()\n",
    "\n",
    "political_counts_balanced = pd.Series(y_political_balanced).value_counts()\n",
    "\n",
    "fig, axes = plt.subplots(1, 2, figsize=(15, 5))\n",
    "\n",
    "axes[0].bar(gender_counts_balanced.index, gender_counts_balanced.values, color=['blue', 'orange'])\n",
    "axes[0].set_title('Balanced Gender Distribution')\n",
    "axes[0].set_xticks(gender_counts_balanced.index)\n",
    "axes[0].set_xticklabels(['Male', 'Female'])\n",
    "axes[0].set_ylabel('Count')\n",
    "\n",
    "axes[1].bar(political_counts_balanced.index, political_counts_balanced.values, color=['blue', 'orange'])\n",
    "axes[1].set_title('Balanced Political Affiliation Distribution')\n",
    "axes[1].set_xticks(political_counts_balanced.index)\n",
    "axes[1].set_xticklabels(['Democrats', 'Republicans'])\n",
    "axes[1].set_ylabel('Count')\n",
    "\n",
    "plt.show()"
   ]
  },
  {
   "cell_type": "code",
   "execution_count": null,
   "id": "2c1a2e60",
   "metadata": {},
   "outputs": [],
   "source": [
    "from sklearn.svm import SVC\n",
    "from sklearn.preprocessing import StandardScaler\n",
    "from sklearn.model_selection import train_test_split, GridSearchCV\n",
    "from sklearn.pipeline import Pipeline\n",
    "\n",
    "X_combined = np.hstack((likes_matrix_reduced, ocean_features))\n",
    "\n",
    "X_train, X_test, y_train, y_test = train_test_split(X_combined, final_df[['gender', 'political']], test_size=0.2, random_state=63)\n",
    "\n",
    "svm_pipeline = Pipeline([\n",
    "    ('scaler', StandardScaler()),\n",
    "    ('svc', SVC(random_state=51))\n",
    "])\n",
    "\n",
    "param_grid = {\n",
    "    'svc__C': [0.1, 1, 10],\n",
    "    'svc__kernel': ['linear', 'rbf'],\n",
    "    'svc__gamma': ['scale', 'auto']\n",
    "}\n",
    "\n",
    "grid_search = GridSearchCV(svm_pipeline, param_grid, cv=5, scoring='accuracy')\n",
    "\n",
    "grid_search.fit(X_train, y_train['gender'])\n",
    "print(f\"Best parameters for gender: {grid_search.best_params_}\")\n",
    "gender_predictions_svm = grid_search.predict(X_test)\n",
    "\n",
    "grid_search.fit(X_train, y_train['political'])\n",
    "print(f\"Best parameters for political: {grid_search.best_params_}\")\n",
    "political_predictions_svm = grid_search.predict(X_test)\n"
   ]
  },
  {
   "cell_type": "code",
   "execution_count": null,
   "id": "c158850f",
   "metadata": {},
   "outputs": [],
   "source": [
    "from sklearn.svm import SVR\n",
    "from sklearn.pipeline import Pipeline\n",
    "from sklearn.model_selection import train_test_split, GridSearchCV\n",
    "from sklearn.preprocessing import StandardScaler\n",
    "\n",
    "X_train, X_test, y_age_train, y_age_test = train_test_split(X_combined, y_age, test_size=0.2, random_state=61)\n",
    "\n",
    "svr_pipeline = Pipeline([\n",
    "    ('scaler', StandardScaler()),\n",
    "    ('svr', SVR())\n",
    "])\n",
    "\n",
    "param_grid = {\n",
    "    'svr__C': [0.1, 1, 10],\n",
    "    'svr__kernel': ['linear', 'rbf'],\n",
    "    'svr__gamma': ['scale', 'auto']\n",
    "}\n",
    "\n",
    "grid_search = GridSearchCV(svr_pipeline, param_grid, cv=5, scoring='neg_mean_squared_error')\n",
    "\n",
    "grid_search.fit(X_train, y_age_train)\n",
    "print(f\"Best parameters for age: {grid_search.best_params_}\")\n",
    "age_predictions_svr = grid_search.predict(X_test)\n"
   ]
  },
  {
   "cell_type": "code",
   "execution_count": null,
   "id": "9ab7308f",
   "metadata": {},
   "outputs": [],
   "source": []
  }
 ],
 "metadata": {
  "kernelspec": {
   "display_name": "Python 3 (ipykernel)",
   "language": "python",
   "name": "python3"
  },
  "language_info": {
   "codemirror_mode": {
    "name": "ipython",
    "version": 3
   },
   "file_extension": ".py",
   "mimetype": "text/x-python",
   "name": "python",
   "nbconvert_exporter": "python",
   "pygments_lexer": "ipython3",
   "version": "3.9.12"
  }
 },
 "nbformat": 4,
 "nbformat_minor": 5
}
